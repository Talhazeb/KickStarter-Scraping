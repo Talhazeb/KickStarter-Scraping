{
 "cells": [
  {
   "cell_type": "code",
   "execution_count": 1,
   "id": "8ee8caee",
   "metadata": {},
   "outputs": [
    {
     "name": "stdout",
     "output_type": "stream",
     "text": [
      "https://www.kickstarter.com/discover/advanced?category_id=16&woe_id=23424977&sort=newest&seed=2502593&page0\n",
      "https://www.kickstarter.com/discover/advanced?category_id=16&woe_id=23424977&sort=newest&seed=2502593&page1\n",
      "https://www.kickstarter.com/discover/advanced?category_id=16&woe_id=23424977&sort=newest&seed=2502593&page2\n",
      "https://www.kickstarter.com/discover/advanced?category_id=16&woe_id=23424977&sort=newest&seed=2502593&page3\n",
      "https://www.kickstarter.com/discover/advanced?category_id=16&woe_id=23424977&sort=newest&seed=2502593&page4\n",
      "https://www.kickstarter.com/discover/advanced?category_id=16&woe_id=23424977&sort=newest&seed=2502593&page5\n",
      "https://www.kickstarter.com/discover/advanced?category_id=16&woe_id=23424977&sort=newest&seed=2502593&page6\n",
      "https://www.kickstarter.com/discover/advanced?category_id=16&woe_id=23424977&sort=newest&seed=2502593&page7\n"
     ]
    },
    {
     "ename": "KeyboardInterrupt",
     "evalue": "",
     "output_type": "error",
     "traceback": [
      "\u001b[1;31m---------------------------------------------------------------------------\u001b[0m",
      "\u001b[1;31mKeyboardInterrupt\u001b[0m                         Traceback (most recent call last)",
      "\u001b[1;32m~\\AppData\\Local\\Temp/ipykernel_5672/1713541580.py\u001b[0m in \u001b[0;36m<module>\u001b[1;34m\u001b[0m\n\u001b[0;32m     25\u001b[0m     \u001b[0mreq\u001b[0m \u001b[1;33m=\u001b[0m \u001b[0mRequest\u001b[0m\u001b[1;33m(\u001b[0m\u001b[0murl\u001b[0m\u001b[1;33m,\u001b[0m \u001b[0mheaders\u001b[0m\u001b[1;33m=\u001b[0m\u001b[1;33m{\u001b[0m\u001b[1;34m'User-Agent'\u001b[0m\u001b[1;33m:\u001b[0m \u001b[1;34m'Mozilla/5.0'\u001b[0m\u001b[1;33m}\u001b[0m\u001b[1;33m)\u001b[0m\u001b[1;33m\u001b[0m\u001b[1;33m\u001b[0m\u001b[0m\n\u001b[0;32m     26\u001b[0m     \u001b[0mresponse\u001b[0m \u001b[1;33m=\u001b[0m \u001b[0murlopen\u001b[0m\u001b[1;33m(\u001b[0m\u001b[0mreq\u001b[0m\u001b[1;33m,\u001b[0m\u001b[0mtimeout\u001b[0m\u001b[1;33m=\u001b[0m\u001b[1;36m10\u001b[0m\u001b[1;33m)\u001b[0m\u001b[1;33m\u001b[0m\u001b[1;33m\u001b[0m\u001b[0m\n\u001b[1;32m---> 27\u001b[1;33m     \u001b[0msleep\u001b[0m\u001b[1;33m(\u001b[0m\u001b[0mrandint\u001b[0m\u001b[1;33m(\u001b[0m\u001b[1;36m1\u001b[0m\u001b[1;33m,\u001b[0m\u001b[1;36m5\u001b[0m\u001b[1;33m)\u001b[0m\u001b[1;33m)\u001b[0m\u001b[1;33m\u001b[0m\u001b[1;33m\u001b[0m\u001b[0m\n\u001b[0m\u001b[0;32m     28\u001b[0m     \u001b[0mhtml\u001b[0m \u001b[1;33m=\u001b[0m \u001b[0mresponse\u001b[0m\u001b[1;33m.\u001b[0m\u001b[0mread\u001b[0m\u001b[1;33m(\u001b[0m\u001b[1;33m)\u001b[0m\u001b[1;33m\u001b[0m\u001b[1;33m\u001b[0m\u001b[0m\n\u001b[0;32m     29\u001b[0m     \u001b[0msoup\u001b[0m \u001b[1;33m=\u001b[0m \u001b[0mBeautifulSoup\u001b[0m\u001b[1;33m(\u001b[0m\u001b[0mhtml\u001b[0m\u001b[1;33m,\u001b[0m \u001b[1;34m'html.parser'\u001b[0m\u001b[1;33m)\u001b[0m\u001b[1;33m\u001b[0m\u001b[1;33m\u001b[0m\u001b[0m\n",
      "\u001b[1;31mKeyboardInterrupt\u001b[0m: "
     ]
    }
   ],
   "source": [
    "#main\n",
    "from urllib.request import urlopen,Request\n",
    "from bs4 import BeautifulSoup\n",
    "import json\n",
    "import csv\n",
    "import time\n",
    "from random import randint\n",
    "from time import sleep\n",
    "from datetime import datetime\n",
    "\n",
    "\n",
    "KICKSTARTER_SEARCH_URL = \"https://www.kickstarter.com/discover/advanced?category_id=16&woe_id=23424977&sort=newest&seed=2502593&page{}\"\n",
    "DATA_FILE = \"Dectest_test.csv\"\n",
    "csvfile = open(DATA_FILE, 'w',encoding='utf-8', newline='')\n",
    "csvwriter = csv.writer(csvfile, delimiter=',')\n",
    "csvwriter.writerow([\"country\", \"creation_date\", \"launch_date\",\"deadline\",\"state\",\"project_id\",\"project_name\",\n",
    "                   \"goal\",\"pledged\",\"percent_funded\",\"Backers_count\",\"is starrable\",\"liked\",\"disliked\",\"staff_pick\",\n",
    "                   \"spotlight\",\"creator_id\",\"creator_name\",\"creator_email_verified\",\"creator_superbacker\",\"category_id\",\n",
    "                   \"category_name\",\"category_analytics_name\",\"category_parent_id\",\"category_parent_name\",\n",
    "                   \"url_project\",\"url_reward\",\"url_creator_profile\"])\n",
    "page_start = 0\n",
    "while True:\n",
    "    url = KICKSTARTER_SEARCH_URL.format(page_start)\n",
    "    print(url)\n",
    "    req = Request(url, headers={'User-Agent': 'Mozilla/5.0'})\n",
    "    response = urlopen(req,timeout=10)\n",
    "    sleep(randint(1,5))\n",
    "    html = response.read()\n",
    "    soup = BeautifulSoup(html, 'html.parser')\n",
    "    project_details_divs = soup.findAll('div', {\"class\":\"js-react-proj-card\"})\n",
    "\n",
    "    if len(project_details_divs) == 0:\n",
    "        break;\n",
    "\n",
    "    for div in project_details_divs:\n",
    "        project = json.loads(div['data-project'])\n",
    "        row = [project[\"country\"],datetime.utcfromtimestamp(project[\"created_at\"]).strftime('%Y-%m-%d'),datetime.utcfromtimestamp(project[\"launched_at\"]).strftime('%Y-%m-%d'),datetime.utcfromtimestamp(project[\"deadline\"]).strftime('%Y-%m-%d'),\n",
    "           project[\"state\"],project[\"id\"],project[\"name\"],project[\"goal\"],project[\"pledged\"],project[\"percent_funded\"],project[\"backers_count\"],project[\"is_starrable\"],\n",
    "          project[\"is_liked\"],project[\"is_disliked\"],project[\"staff_pick\"],project[\"spotlight\"],project[\"creator\"].get('id'),project[\"creator\"].get('name'),\n",
    "           project[\"creator\"].get('email_verified'),project[\"creator\"].get('is_superbacker'),project[\"category\"].get('id'),project[\"category\"].get('name'),\n",
    "           project[\"category\"].get('analytics_name'),project[\"category\"].get('parent_id'),project[\"category\"].get('parent_name'),\n",
    "          project[\"urls\"].get('web').get('project'),project[\"urls\"].get('web').get('rewards'),project[\"creator\"].get('urls').get('web').get('user')]\n",
    "        csvwriter.writerow(row)\n",
    "    page_start +=1\n",
    "\n",
    "csvfile.close()\n"
   ]
  },
  {
   "cell_type": "code",
   "execution_count": null,
   "id": "a5151e1a",
   "metadata": {},
   "outputs": [],
   "source": []
  }
 ],
 "metadata": {
  "kernelspec": {
   "display_name": "Python 3 (ipykernel)",
   "language": "python",
   "name": "python3"
  },
  "language_info": {
   "codemirror_mode": {
    "name": "ipython",
    "version": 3
   },
   "file_extension": ".py",
   "mimetype": "text/x-python",
   "name": "python",
   "nbconvert_exporter": "python",
   "pygments_lexer": "ipython3",
   "version": "3.9.7"
  }
 },
 "nbformat": 4,
 "nbformat_minor": 5
}
